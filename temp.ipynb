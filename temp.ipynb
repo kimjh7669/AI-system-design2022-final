{
 "cells": [
  {
   "cell_type": "code",
   "execution_count": 1,
   "metadata": {},
   "outputs": [
    {
     "name": "stderr",
     "output_type": "stream",
     "text": [
      "/home/jhkim/anaconda3/envs/M3D-RPN/lib/python3.7/site-packages/tqdm/auto.py:22: TqdmWarning: IProgress not found. Please update jupyter and ipywidgets. See https://ipywidgets.readthedocs.io/en/stable/user_install.html\n",
      "  from .autonotebook import tqdm as notebook_tqdm\n"
     ]
    }
   ],
   "source": [
    "from importlib import import_module\n",
    "from easydict import EasyDict as edict\n",
    "import torch.backends.cudnn as cudnn\n",
    "import sys\n",
    "import numpy as np\n",
    "import os\n",
    "\n",
    "sys.dont_write_bytecode = True\n",
    "sys.path.append(os.getcwd())\n",
    "\n",
    "from lib.imdb_util import *\n",
    "\n",
    "\n",
    "conf_path = '/media/hdd/jhkim/git/M3D-RPN/M3D-RPN-Release/m3d_rpn_depth_aware_test_config.pkl'\n",
    "weights_path = '/media/hdd/jhkim/git/M3D-RPN/M3D-RPN-Release/m3d_rpn_depth_aware_test'\n"
   ]
  },
  {
   "cell_type": "code",
   "execution_count": 2,
   "metadata": {},
   "outputs": [],
   "source": [
    "conf = edict(pickle_read(conf_path))"
   ]
  },
  {
   "cell_type": "code",
   "execution_count": 5,
   "metadata": {},
   "outputs": [
    {
     "name": "stdout",
     "output_type": "stream",
     "text": [
      "model, solver_type, lr, momentum, weight_decay, max_iter, snapshot_iter, display, do_test, lr_policy, lr_steps, lr_target, rng_seed, cuda_seed, image_means, image_stds, feat_stride, has_3d, test_scale, crop_size, mirror_prob, distort_prob, dataset_test, datasets_train, use_3d_for_2d, percent_anc_h, min_gt_h, max_gt_h, min_gt_vis, ilbls, lbls, batch_size, fg_image_ratio, box_samples, fg_fraction, bg_thresh_lo, bg_thresh_hi, fg_thresh, ign_thresh, best_thresh, nms_topN_pre, nms_topN_post, nms_thres, clip_boxes, test_protocol, test_db, test_min_h, min_det_scales, cluster_anchors, even_anchors, expand_anchors, anchors, bbox_means, bbox_stds, anchor_scales, anchor_ratios, hard_negatives, focal_loss, moving_target, cls_2d_lambda, iou_2d_lambda, bbox_2d_lambda, bbox_3d_lambda, bbox_3d_proj_lambda, weak_seg_lambda, iou_3d_lambda, hill_climbing, pretrained, bins, visdom_port, "
     ]
    }
   ],
   "source": [
    "conf_keys = list(conf.keys())\n",
    "for key in conf_keys:\n",
    "    print(key, end=', ')"
   ]
  },
  {
   "cell_type": "code",
   "execution_count": 8,
   "metadata": {},
   "outputs": [
    {
     "name": "stdout",
     "output_type": "stream",
     "text": [
      "model : densenet121_3d_dilate_depth_aware\n",
      "\n",
      "solver_type : sgd\n",
      "\n",
      "lr : 0.004\n",
      "\n",
      "momentum : 0.9\n",
      "\n",
      "weight_decay : 0.0005\n",
      "\n",
      "max_iter : 50000\n",
      "\n",
      "snapshot_iter : 10000\n",
      "\n",
      "display : 250\n",
      "\n",
      "do_test : True\n",
      "\n",
      "lr_policy : poly\n",
      "\n",
      "lr_steps : None\n",
      "\n",
      "lr_target : 4e-08\n",
      "\n",
      "rng_seed : 5\n",
      "\n",
      "cuda_seed : 5\n",
      "\n",
      "image_means : [0.485, 0.456, 0.406]\n",
      "\n",
      "image_stds : [0.229, 0.224, 0.225]\n",
      "\n",
      "feat_stride : 16\n",
      "\n",
      "has_3d : True\n",
      "\n",
      "test_scale : 512\n",
      "\n",
      "crop_size : [512, 1760]\n",
      "\n",
      "mirror_prob : 0.5\n",
      "\n",
      "distort_prob : -1\n",
      "\n",
      "dataset_test : kitti_split1\n",
      "\n",
      "datasets_train : [{'name': 'kitti', 'anno_fmt': 'kitti_det', 'im_ext': '.png', 'scale': 1}]\n",
      "\n",
      "use_3d_for_2d : True\n",
      "\n",
      "percent_anc_h : [0.0625, 0.75]\n",
      "\n",
      "min_gt_h : 32.0\n",
      "\n",
      "max_gt_h : 384.0\n",
      "\n",
      "min_gt_vis : 0.65\n",
      "\n",
      "ilbls : ['Van', 'ignore']\n",
      "\n",
      "lbls : ['Car', 'Pedestrian', 'Cyclist']\n",
      "\n",
      "batch_size : 2\n",
      "\n",
      "fg_image_ratio : 1.0\n",
      "\n",
      "box_samples : 0.2\n",
      "\n",
      "fg_fraction : 0.2\n",
      "\n",
      "bg_thresh_lo : 0\n",
      "\n",
      "bg_thresh_hi : 0.5\n",
      "\n",
      "fg_thresh : 0.5\n",
      "\n",
      "ign_thresh : 0.5\n",
      "\n",
      "best_thresh : 0.35\n",
      "\n",
      "nms_topN_pre : 3000\n",
      "\n",
      "nms_topN_post : 40\n",
      "\n",
      "nms_thres : 0.4\n",
      "\n",
      "clip_boxes : False\n",
      "\n",
      "test_protocol : kitti\n",
      "\n",
      "test_db : kitti\n",
      "\n",
      "test_min_h : 0\n",
      "\n",
      "min_det_scales : [0, 0]\n",
      "\n",
      "cluster_anchors : 0\n",
      "\n",
      "even_anchors : 0\n",
      "\n",
      "expand_anchors : 0\n",
      "\n",
      "anchors : [[-5.00000000e-01 -8.50000000e+00  1.55000000e+01  2.35000000e+01\n",
      "   5.21453775e+01  5.81754386e-01  1.72789474e+00  1.29666667e+00\n",
      "   2.13853264e-01]\n",
      " [-8.50000000e+00 -8.50000000e+00  2.35000000e+01  2.35000000e+01\n",
      "   5.18913304e+01  1.50147059e+00  1.61593137e+00  3.59274510e+00\n",
      "  -5.05022635e-01]\n",
      " [-1.65000000e+01 -8.50000000e+00  3.15000000e+01  2.35000000e+01\n",
      "   4.73391214e+01  1.64995074e+00  1.49743842e+00  3.92922824e+00\n",
      "   3.57177540e-01]\n",
      " [-2.52760863e+00 -1.25552168e+01  1.75276089e+01  2.75552177e+01\n",
      "   4.40955925e+01  5.88248175e-01  1.75547445e+00  1.11576642e+00\n",
      "   6.47950460e-01]\n",
      " [-1.25552168e+01 -1.25552168e+01  2.75552177e+01  2.75552177e+01\n",
      "   4.44565533e+01  1.58342495e+00  1.58610994e+00  3.65266385e+00\n",
      "  -6.77377310e-01]\n",
      " [-2.25828266e+01 -1.25552168e+01  3.75828247e+01  2.75552177e+01\n",
      "   4.22111456e+01  1.63708333e+00  1.51772177e+00  3.88492608e+00\n",
      "   5.46015075e-01]\n",
      " [-5.06911659e+00 -1.76382332e+01  2.00691166e+01  3.26382332e+01\n",
      "   3.49269178e+01  5.81680328e-01  1.74897541e+00  1.06721311e+00\n",
      "   1.25207987e-01]\n",
      " [-1.76382332e+01 -1.76382332e+01  3.26382332e+01  3.26382332e+01\n",
      "   3.55201263e+01  1.56273908e+00  1.59276269e+00  3.68002361e+00\n",
      "  -5.99037042e-01]\n",
      " [-3.02073498e+01 -1.76382332e+01  4.52073517e+01  3.26382332e+01\n",
      "   3.61267265e+01  1.62720891e+00  1.51633983e+00  3.93901950e+00\n",
      "   4.92872370e-01]\n",
      " [-8.25477314e+00 -2.40095463e+01  2.32547722e+01  3.90095444e+01\n",
      "   2.84148101e+01  6.34206897e-01  1.75209195e+00  1.00811494e+00\n",
      "   1.36934702e-01]\n",
      " [-2.40095463e+01 -2.40095463e+01  3.90095444e+01  3.90095444e+01\n",
      "   2.85656165e+01  1.54212766e+00  1.59137116e+00  3.60317967e+00\n",
      "  -7.96005345e-01]\n",
      " [-3.97643166e+01 -2.40095463e+01  5.47643166e+01  3.90095444e+01\n",
      "   2.97019802e+01  1.63571984e+00  1.51251251e+00  3.94486381e+00\n",
      "   2.69638367e-01]\n",
      " [-1.22478371e+01 -3.19956741e+01  2.72478371e+01  4.69956741e+01\n",
      "   2.28591728e+01  6.47391304e-01  1.75396975e+00  9.99735350e-01\n",
      "   9.40828807e-03]\n",
      " [-3.19956741e+01 -3.19956741e+01  4.69956741e+01  4.69956741e+01\n",
      "   2.32371513e+01  1.52069630e+00  1.60517037e+00  3.45167407e+00\n",
      "  -9.20604726e-01]\n",
      " [-5.17435112e+01 -3.19956741e+01  6.67435074e+01  4.69956741e+01\n",
      "   2.42414353e+01  1.63427879e+00  1.51719394e+00  3.93409091e+00\n",
      "   2.52615961e-01]\n",
      " [-1.72529469e+01 -4.20058937e+01  3.22529488e+01  5.70058937e+01\n",
      "   1.84486723e+01  6.60472727e-01  1.74487273e+00  1.06552727e+00\n",
      "   6.22916667e-02]\n",
      " [-4.20058937e+01 -4.20058937e+01  5.70058937e+01  5.70058937e+01\n",
      "   1.89987761e+01  1.49555556e+00  1.61123737e+00  3.34005051e+00\n",
      "  -7.48578009e-01]\n",
      " [-6.67588425e+01 -4.20058937e+01  8.17588425e+01  5.70058937e+01\n",
      "   1.98645082e+01  1.63046896e+00  1.52274769e+00  3.93528402e+00\n",
      "   1.68236448e-01]\n",
      " [-2.35266075e+01 -5.45532150e+01  3.85266075e+01  6.95532150e+01\n",
      "   1.50451319e+01  6.59426049e-01  1.74977925e+00  9.61125828e-01\n",
      "   2.62318799e-01]\n",
      " [-5.45532150e+01 -5.45532150e+01  6.95532150e+01  6.95532150e+01\n",
      "   1.49874658e+01  1.28457014e+00  1.64515837e+00  2.87927602e+00\n",
      "  -5.25584335e-01]\n",
      " [-8.55798264e+01 -5.45532150e+01  1.00579826e+02  6.95532150e+01\n",
      "   1.60063484e+01  1.61890494e+00  1.51718631e+00  3.92901141e+00\n",
      "   7.33620269e-02]\n",
      " [-3.13903351e+01 -7.02806702e+01  4.63903351e+01  8.52806702e+01\n",
      "   1.21167379e+01  6.60501193e-01  1.75809069e+00  9.38520286e-01\n",
      "   1.49677325e-01]\n",
      " [-7.02806702e+01 -7.02806702e+01  8.52806702e+01  8.52806702e+01\n",
      "   1.17394191e+01  1.07576471e+00  1.66217647e+00  2.35023529e+00\n",
      "  -2.92211952e-01]\n",
      " [-1.09171005e+02 -7.02806702e+01  1.24171005e+02  8.52806702e+01\n",
      "   1.32726188e+01  1.62378284e+00  1.52671629e+00  3.93782837e+00\n",
      "  -1.58280689e-02]\n",
      " [-4.12471313e+01 -8.99942627e+01  5.62471313e+01  1.04994263e+02\n",
      "   9.89332102e+00  6.54709480e-01  1.75908257e+00  9.53455657e-01\n",
      "   2.04465487e-01]\n",
      " [-8.99942627e+01 -8.99942627e+01  1.04994263e+02  1.04994263e+02\n",
      "   8.77673377e+00  8.66653846e-01  1.73773077e+00  1.65223077e+00\n",
      "  -2.31569740e-01]\n",
      " [-1.38741394e+02 -8.99942627e+01  1.53741394e+02  1.04994263e+02\n",
      "   1.09282930e+01  1.61851893e+00  1.52148107e+00  3.91102450e+00\n",
      "  -1.46046061e-01]\n",
      " [-5.36021461e+01 -1.14704292e+02  6.86021423e+01  1.29704285e+02\n",
      "   8.29263487e+00  6.40492228e-01  1.77440415e+00  9.74766839e-01\n",
      "   2.83413375e-01]\n",
      " [-1.14704292e+02 -1.14704292e+02  1.29704285e+02  1.29704285e+02\n",
      "   7.78212794e+00  1.04330645e+00  1.72153226e+00  2.01072581e+00\n",
      "  -2.12224729e-01]\n",
      " [-1.75806442e+02 -1.14704292e+02  1.90806442e+02  1.29704285e+02\n",
      "   9.14097309e+00  1.61417450e+00  1.51994631e+00  3.87895302e+00\n",
      "  -1.53856863e-01]\n",
      " [-6.90885468e+01 -1.45677094e+02  8.40885468e+01  1.60677094e+02\n",
      "   6.83411100e+00  6.65294118e-01  1.76928571e+00  9.59789916e-01\n",
      "   3.68555043e-01]\n",
      " [-1.45677094e+02 -1.45677094e+02  1.60677094e+02  1.60677094e+02\n",
      "   6.59099847e+00  1.24954545e+00  1.64336364e+00  2.53390909e+00\n",
      "  -7.25509736e-01]\n",
      " [-2.22265656e+02 -1.45677094e+02  2.37265656e+02  1.60677094e+02\n",
      "   7.80050860e+00  1.61811252e+00  1.53052632e+00  3.90751361e+00\n",
      "  -2.75230624e-01]\n",
      " [-8.85000000e+01 -1.84500000e+02  1.03500000e+02  1.99500000e+02\n",
      "   5.28127255e+00  6.91607143e-01  1.77044643e+00  8.84285714e-01\n",
      "  -4.11573564e-02]\n",
      " [-1.84500000e+02 -1.84500000e+02  1.99500000e+02  1.99500000e+02\n",
      "   4.33475219e+00  7.38831169e-01  1.76012987e+00  1.20948052e+00\n",
      "   2.02645204e-01]\n",
      " [-2.80500000e+02 -1.84500000e+02  2.95500000e+02  1.99500000e+02\n",
      "   5.60786618e+00  1.58417254e+00  1.53543134e+00  3.81887324e+00\n",
      "  -2.10674110e-01]]\n",
      "\n",
      "bbox_means : [[-0.00113694  0.00205018  0.067497   -0.0907372   0.00541239 -0.06926353\n",
      "   0.30813908  0.06805384 -0.02440728  0.09393358  0.00625098]]\n",
      "\n",
      "bbox_stds : [[0.14049211 0.12530017 0.24631082 0.23614043 0.1692778  0.13197722\n",
      "  3.40274301 0.36466316 0.10037475 0.51904126 1.82909202]]\n",
      "\n",
      "anchor_scales : [ 32.          40.1104343   50.27646685  63.01909126  78.99134748\n",
      "  99.01178916 124.10643323 155.56134174 194.98853052 244.40858256\n",
      " 306.35419975 384.        ]\n",
      "\n",
      "anchor_ratios : [0.5 1.  1.5]\n",
      "\n",
      "hard_negatives : True\n",
      "\n",
      "focal_loss : 0\n",
      "\n",
      "moving_target : None\n",
      "\n",
      "cls_2d_lambda : 1\n",
      "\n",
      "iou_2d_lambda : 1\n",
      "\n",
      "bbox_2d_lambda : 0\n",
      "\n",
      "bbox_3d_lambda : 1\n",
      "\n",
      "bbox_3d_proj_lambda : 0.0\n",
      "\n",
      "weak_seg_lambda : 0.0\n",
      "\n",
      "iou_3d_lambda : 0\n",
      "\n",
      "hill_climbing : True\n",
      "\n",
      "pretrained : None\n",
      "\n",
      "bins : 32\n",
      "\n",
      "visdom_port : 8100\n",
      "\n"
     ]
    }
   ],
   "source": [
    "for k, v in conf.items():\n",
    "    print(k,\":\", v)\n",
    "    print()"
   ]
  },
  {
   "cell_type": "code",
   "execution_count": 11,
   "metadata": {},
   "outputs": [
    {
     "data": {
      "text/plain": [
       "(36, 9)"
      ]
     },
     "execution_count": 11,
     "metadata": {},
     "output_type": "execute_result"
    }
   ],
   "source": [
    "conf['anchors'].shape"
   ]
  },
  {
   "cell_type": "code",
   "execution_count": 12,
   "metadata": {},
   "outputs": [
    {
     "data": {
      "text/plain": [
       "5"
      ]
     },
     "execution_count": 12,
     "metadata": {},
     "output_type": "execute_result"
    }
   ],
   "source": [
    "conf['rng_seed']"
   ]
  },
  {
   "cell_type": "code",
   "execution_count": 13,
   "metadata": {},
   "outputs": [
    {
     "data": {
      "text/plain": [
       "'densenet121_3d_dilate_depth_aware'"
      ]
     },
     "execution_count": 13,
     "metadata": {},
     "output_type": "execute_result"
    }
   ],
   "source": [
    "conf.model"
   ]
  },
  {
   "cell_type": "code",
   "execution_count": 14,
   "metadata": {},
   "outputs": [
    {
     "name": "stderr",
     "output_type": "stream",
     "text": [
      "/home/jhkim/anaconda3/envs/M3D-RPN/lib/python3.7/site-packages/torchvision/io/image.py:13: UserWarning: Failed to load image Python extension: /home/jhkim/anaconda3/envs/M3D-RPN/lib/python3.7/site-packages/torchvision/image.so: undefined symbol: _ZN5torch3jit17parseSchemaOrNameERKNSt7__cxx1112basic_stringIcSt11char_traitsIcESaIcEEE\n",
      "  warn(f\"Failed to load image Python extension: {e}\")\n",
      "/home/jhkim/anaconda3/envs/M3D-RPN/lib/python3.7/site-packages/torchvision/models/_utils.py:209: UserWarning: The parameter 'pretrained' is deprecated since 0.13 and will be removed in 0.15, please use 'weights' instead.\n",
      "  f\"The parameter '{pretrained_param}' is deprecated since 0.13 and will be removed in 0.15, \"\n",
      "/home/jhkim/anaconda3/envs/M3D-RPN/lib/python3.7/site-packages/torchvision/models/_utils.py:223: UserWarning: Arguments other than a weight enum or `None` for 'weights' are deprecated since 0.13 and will be removed in 0.15. The current behavior is equivalent to passing `weights=DenseNet121_Weights.IMAGENET1K_V1`. You can also use `weights=DenseNet121_Weights.DEFAULT` to get the most up-to-date weights.\n",
      "  warnings.warn(msg)\n"
     ]
    }
   ],
   "source": [
    "net = import_module('models.' + conf.model).build(conf)"
   ]
  },
  {
   "cell_type": "code",
   "execution_count": 16,
   "metadata": {},
   "outputs": [
    {
     "data": {
      "text/plain": [
       "models.densenet121_3d_dilate_depth_aware.RPN"
      ]
     },
     "execution_count": 16,
     "metadata": {},
     "output_type": "execute_result"
    }
   ],
   "source": [
    "type(net)"
   ]
  },
  {
   "cell_type": "code",
   "execution_count": 20,
   "metadata": {},
   "outputs": [
    {
     "data": {
      "text/plain": [
       "512"
      ]
     },
     "execution_count": 20,
     "metadata": {},
     "output_type": "execute_result"
    }
   ],
   "source": [
    "conf.test_scale"
   ]
  },
  {
   "cell_type": "code",
   "execution_count": 21,
   "metadata": {},
   "outputs": [
    {
     "data": {
      "text/plain": [
       "0.4"
      ]
     },
     "execution_count": 21,
     "metadata": {},
     "output_type": "execute_result"
    }
   ],
   "source": [
    "conf.nms_thres"
   ]
  },
  {
   "cell_type": "code",
   "execution_count": 22,
   "metadata": {},
   "outputs": [
    {
     "data": {
      "text/plain": [
       "40"
      ]
     },
     "execution_count": 22,
     "metadata": {},
     "output_type": "execute_result"
    }
   ],
   "source": [
    "conf.nms_topN_post"
   ]
  },
  {
   "cell_type": "code",
   "execution_count": 23,
   "metadata": {},
   "outputs": [
    {
     "data": {
      "text/plain": [
       "3000"
      ]
     },
     "execution_count": 23,
     "metadata": {},
     "output_type": "execute_result"
    }
   ],
   "source": [
    "conf.nms_topN_pre"
   ]
  },
  {
   "cell_type": "code",
   "execution_count": 24,
   "metadata": {},
   "outputs": [
    {
     "data": {
      "text/plain": [
       "['Car', 'Pedestrian', 'Cyclist']"
      ]
     },
     "execution_count": 24,
     "metadata": {},
     "output_type": "execute_result"
    }
   ],
   "source": [
    "conf.lbls"
   ]
  },
  {
   "cell_type": "code",
   "execution_count": 25,
   "metadata": {},
   "outputs": [
    {
     "data": {
      "text/plain": [
       "'kitti_split1'"
      ]
     },
     "execution_count": 25,
     "metadata": {},
     "output_type": "execute_result"
    }
   ],
   "source": [
    "conf.dataset_test"
   ]
  },
  {
   "cell_type": "code",
   "execution_count": 26,
   "metadata": {},
   "outputs": [],
   "source": [
    "import torch"
   ]
  },
  {
   "cell_type": "code",
   "execution_count": 67,
   "metadata": {},
   "outputs": [],
   "source": [
    "m = torch.nn.ConvTranspose2d(16, 33, 2, stride=2, padding=0)"
   ]
  },
  {
   "cell_type": "code",
   "execution_count": 68,
   "metadata": {},
   "outputs": [],
   "source": [
    "a = torch.ones(1, 16, 100,100)"
   ]
  },
  {
   "cell_type": "code",
   "execution_count": 69,
   "metadata": {},
   "outputs": [
    {
     "data": {
      "text/plain": [
       "torch.Size([1, 33, 200, 200])"
      ]
     },
     "execution_count": 69,
     "metadata": {},
     "output_type": "execute_result"
    }
   ],
   "source": [
    "b = m(a)\n",
    "b.shape"
   ]
  },
  {
   "cell_type": "code",
   "execution_count": null,
   "metadata": {},
   "outputs": [],
   "source": []
  },
  {
   "cell_type": "code",
   "execution_count": null,
   "metadata": {},
   "outputs": [],
   "source": []
  }
 ],
 "metadata": {
  "interpreter": {
   "hash": "b57e03a4325ba8feb38d93c295f66b79ee651d8e47fa5ed7ba62268769f2b1cc"
  },
  "kernelspec": {
   "display_name": "Python 3.7.0 ('M3D-RPN')",
   "language": "python",
   "name": "python3"
  },
  "language_info": {
   "codemirror_mode": {
    "name": "ipython",
    "version": 3
   },
   "file_extension": ".py",
   "mimetype": "text/x-python",
   "name": "python",
   "nbconvert_exporter": "python",
   "pygments_lexer": "ipython3",
   "version": "3.7.0"
  },
  "orig_nbformat": 4
 },
 "nbformat": 4,
 "nbformat_minor": 2
}
